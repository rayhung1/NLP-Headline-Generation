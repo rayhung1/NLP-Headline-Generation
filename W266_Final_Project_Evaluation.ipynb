{
  "cells": [
    {
      "cell_type": "markdown",
      "metadata": {
        "id": "view-in-github",
        "colab_type": "text"
      },
      "source": [
        "<a href=\"https://colab.research.google.com/github/vagabond008/mids-266-Dipika-Jack-Ray/blob/main/W266_Final_Project_Evaluation.ipynb\" target=\"_parent\"><img src=\"https://colab.research.google.com/assets/colab-badge.svg\" alt=\"Open In Colab\"/></a>"
      ]
    },
    {
      "cell_type": "markdown",
      "metadata": {
        "id": "xvILg5xsh_KH"
      },
      "source": [
        "## 1. Setup"
      ]
    },
    {
      "cell_type": "code",
      "execution_count": 55,
      "metadata": {
        "colab": {
          "base_uri": "https://localhost:8080/"
        },
        "id": "U1qL94HGneD9",
        "outputId": "7790d9ce-3267-4dc3-f6f9-b15809cbe639"
      },
      "outputs": [
        {
          "output_type": "stream",
          "name": "stdout",
          "text": [
            "Requirement already satisfied: utils in /usr/local/lib/python3.10/dist-packages (1.0.2)\n"
          ]
        }
      ],
      "source": [
        "# install packages\n",
        "#!pip install -q transformers==4.37.2\n",
        "!pip install -q sentencepiece\n",
        "!pip install -q evaluate\n",
        "!pip install -q tensorflow==2.15\n",
        "!pip install -q rouge_score\n",
        "!pip install utils"
      ]
    },
    {
      "cell_type": "code",
      "execution_count": 56,
      "metadata": {
        "id": "G4uHjAq0l9Uz",
        "colab": {
          "base_uri": "https://localhost:8080/"
        },
        "outputId": "1f3ec84e-7cbf-4be0-e6f7-786a9cdaf491"
      },
      "outputs": [
        {
          "output_type": "stream",
          "name": "stdout",
          "text": [
            "2.15.0\n"
          ]
        }
      ],
      "source": [
        "# import libraries\n",
        "import os\n",
        "import re\n",
        "import numpy as np\n",
        "import pandas as pd\n",
        "import evaluate\n",
        "\n",
        "import tensorflow as tf\n",
        "import tensorflow_hub as hub\n",
        "import seaborn as sns\n",
        "import matplotlib.pyplot as plt\n",
        "\n",
        "import logging\n",
        "import tensorflow_hub as hub\n",
        "\n",
        "# Set the threshold for what messages will be logged\n",
        "logging.getLogger('tensorflow').setLevel(logging.ERROR)\n",
        "\n",
        "print(tf.__version__)\n",
        "\n",
        "from tensorflow import keras\n",
        "from tensorflow.keras import layers\n",
        "\n",
        "from transformers import TFPegasusForConditionalGeneration, PegasusTokenizer\n",
        "\n",
        "#from utils import angular_similarity, frechet_distance\n",
        "\n",
        "from google.colab import drive\n",
        "#from rouge_score import rouge_scorer\n",
        "\n"
      ]
    },
    {
      "cell_type": "code",
      "execution_count": 57,
      "metadata": {
        "colab": {
          "base_uri": "https://localhost:8080/"
        },
        "id": "o4N5QZwQmbb5",
        "outputId": "a324b6a3-cd3c-4e21-d74a-d55120bee709"
      },
      "outputs": [
        {
          "output_type": "stream",
          "name": "stdout",
          "text": [
            "Drive already mounted at /content/drive; to attempt to forcibly remount, call drive.mount(\"/content/drive\", force_remount=True).\n"
          ]
        }
      ],
      "source": [
        "# mount Colab to Google Drive\n",
        "drive.mount('/content/drive')"
      ]
    },
    {
      "cell_type": "code",
      "execution_count": 74,
      "metadata": {
        "id": "SaMha8DNmjFg"
      },
      "outputs": [],
      "source": [
        "# verify data exists in Google Drive dir\n",
        "#!ls 'drive/My Drive/W266'"
      ]
    },
    {
      "cell_type": "markdown",
      "metadata": {
        "id": "MjySjw3dmp3h"
      },
      "source": [
        "## 2. Load Data"
      ]
    },
    {
      "cell_type": "markdown",
      "source": [
        "Load Pegasus, T5, and GPT-2 results containing Reddit posts, generated titles, and the original title (*ground truth*)"
      ],
      "metadata": {
        "id": "dmdDOqgej0OP"
      }
    },
    {
      "cell_type": "code",
      "execution_count": 75,
      "metadata": {
        "id": "p8snJGQumomB"
      },
      "outputs": [],
      "source": [
        "# set display to max width\n",
        "pd.set_option('display.max_colwidth', None)\n",
        "\n",
        "# load cleaned Reddit ds - Pegasus\n",
        "df_peg = pd.read_csv('drive/My Drive/W266/pegasus_results.csv')\n",
        "\n",
        "# load cleaned Reddit ds - T5\n",
        "df_t5 = pd.read_csv('drive/My Drive/W266/t5_results.csv')\n",
        "\n",
        "# load cleaned Reddit ds - GPT-3\n",
        "df_gpt = pd.read_csv('drive/My Drive/W266/gpt_results.csv')"
      ]
    },
    {
      "cell_type": "code",
      "source": [
        "print(df_peg.info(),\"\\n\")\n",
        "print(df_t5.info(),\"\\n\")\n",
        "print(df_gpt.info(),\"\\n\")"
      ],
      "metadata": {
        "colab": {
          "base_uri": "https://localhost:8080/"
        },
        "id": "QGtpG76NvOIr",
        "outputId": "e534ffd1-b1f0-48bb-f5ef-1774fe8344b1"
      },
      "execution_count": 76,
      "outputs": [
        {
          "output_type": "stream",
          "name": "stdout",
          "text": [
            "<class 'pandas.core.frame.DataFrame'>\n",
            "RangeIndex: 1250 entries, 0 to 1249\n",
            "Data columns (total 4 columns):\n",
            " #   Column           Non-Null Count  Dtype \n",
            "---  ------           --------------  ----- \n",
            " 0   Index_ID         1250 non-null   int64 \n",
            " 1   ref_post         1250 non-null   object\n",
            " 2   ref_title        1250 non-null   object\n",
            " 3   candidate_title  1250 non-null   object\n",
            "dtypes: int64(1), object(3)\n",
            "memory usage: 39.2+ KB\n",
            "None \n",
            "\n",
            "<class 'pandas.core.frame.DataFrame'>\n",
            "RangeIndex: 1250 entries, 0 to 1249\n",
            "Data columns (total 4 columns):\n",
            " #   Column           Non-Null Count  Dtype \n",
            "---  ------           --------------  ----- \n",
            " 0   Index_ID         1250 non-null   int64 \n",
            " 1   ref_post         1250 non-null   object\n",
            " 2   ref_title        1250 non-null   object\n",
            " 3   candidate_title  1250 non-null   object\n",
            "dtypes: int64(1), object(3)\n",
            "memory usage: 39.2+ KB\n",
            "None \n",
            "\n",
            "<class 'pandas.core.frame.DataFrame'>\n",
            "RangeIndex: 1250 entries, 0 to 1249\n",
            "Data columns (total 4 columns):\n",
            " #   Column           Non-Null Count  Dtype \n",
            "---  ------           --------------  ----- \n",
            " 0   Index_ID         1250 non-null   int64 \n",
            " 1   ref_post         1250 non-null   object\n",
            " 2   ref_title        1250 non-null   object\n",
            " 3   candidate_title  1250 non-null   object\n",
            "dtypes: int64(1), object(3)\n",
            "memory usage: 39.2+ KB\n",
            "None \n",
            "\n"
          ]
        }
      ]
    },
    {
      "cell_type": "code",
      "source": [
        "\n",
        "def subset_columns(df):\n",
        "    \"\"\"\n",
        "    Takes a DataFrame and returns subsets containing 'ref_post', 'ref_title',\n",
        "    and 'candidate_title' columns.\n",
        "\n",
        "    Parameters:\n",
        "    - df: The input DataFrame from which the subsets will be created.\n",
        "\n",
        "    Returns:\n",
        "    - A tuple of DataFrames containing the specified columns.\n",
        "    \"\"\"\n",
        "    ref_post = pd.DataFrame(df['ref_post'])\n",
        "    ref_title = pd.DataFrame(df['ref_title'])\n",
        "    candidate_title = pd.DataFrame(df['candidate_title'])\n",
        "\n",
        "    return ref_post, ref_title, candidate_title"
      ],
      "metadata": {
        "id": "8gCkKbz-iauJ"
      },
      "execution_count": 77,
      "outputs": []
    },
    {
      "cell_type": "code",
      "source": [
        "# Set the number of test samples to evaluate\n",
        "sample_size = 1250"
      ],
      "metadata": {
        "id": "r9EmWerRtc1I"
      },
      "execution_count": 97,
      "outputs": []
    },
    {
      "cell_type": "markdown",
      "source": [
        "### 3. Angular Similarity and Fréchet's Distance\n",
        "Here we define functions for **Angular Similarity** and **Fréchet's distance**.\n",
        "\n",
        "Angular Similarity is a measure related related to [Cosine Similarity](https://en.wikipedia.org/wiki/Cosine_similarity). It's refers to the normalized angle between two vectors and bounded between 0 and 1. An Angular Similarity that's close to $1$ suggests that embeddings are similar in terms of semantic meaning while $0$ suggest otherwise.\n",
        "\n",
        "[Frechet's distance](https://https://en.wikipedia.org/wiki/Fr%C3%A9chet_distance) is a measure of similarity between two curves that takes into account the ordering and location of points. For NLP, it can be used as a quantitative measure of semanatic similarity between machined generated and human texts. Unlike Angular Similarity, lower values of Fréchet's distance indicate greater similarity.  "
      ],
      "metadata": {
        "id": "aLTCZ3uRaPwK"
      }
    },
    {
      "cell_type": "code",
      "source": [
        "\n",
        "def angular_similarity(tensor_a, tensor_b):\n",
        "  #normalize tensors\n",
        "  norm_a = tf.nn.l2_normalize(tensor_a, axis=1)\n",
        "  norm_b = tf.nn.l2_normalize(tensor_b, axis=1)\n",
        "\n",
        "  #cosine similarity\n",
        "  cosine_similarity = tf.reduce_sum(tf.multiply(norm_a, norm_b), axis=1)\n",
        "\n",
        "  #angular similarity\n",
        "  angular_similarity = (1 - tf.acos(cosine_similarity) / np.pi).numpy()\n",
        "\n",
        "  return angular_similarity\n",
        "\n",
        "def frechet_distance(tensor_a, tensor_b):\n",
        "  #euclidean distance\n",
        "  frechet_distance = tf.norm(tensor_a - tensor_b, ord='euclidean').numpy()\n",
        "\n",
        "  #print(\"Fréchet Distance :\", frechet_distance)\n",
        "\n",
        "  return frechet_distance"
      ],
      "metadata": {
        "id": "3Xu2Sn-Gplwo"
      },
      "execution_count": 82,
      "outputs": []
    },
    {
      "cell_type": "code",
      "source": [
        "# Test the Angular Similarity and Frechet's Distance\n",
        "tensor_a = tf.constant([[1, 1]], dtype=tf.float32)\n",
        "tensor_b = tf.constant([[1, 1]], dtype=tf.float32)\n",
        "print(\"Angular Sim :\",angular_similarity(tensor_a, tensor_b))\n",
        "print(\"Frechet :\",frechet_distance(tensor_a, tensor_b))"
      ],
      "metadata": {
        "id": "LKbvo04EqVi5",
        "colab": {
          "base_uri": "https://localhost:8080/"
        },
        "outputId": "290fb8c7-ba0d-48eb-b348-0a1854555119"
      },
      "execution_count": 83,
      "outputs": [
        {
          "output_type": "stream",
          "name": "stdout",
          "text": [
            "Angular Sim : [0.9998901]\n",
            "Frechet : 0.0\n"
          ]
        }
      ]
    },
    {
      "cell_type": "markdown",
      "source": [
        "## 4. Universal Sentence Encoder"
      ],
      "metadata": {
        "id": "iJDs-Ui9rLfX"
      }
    },
    {
      "cell_type": "code",
      "source": [
        "# Import the Universal Sentence Encoder's TF Hub module\n",
        "\n",
        "# Assume module_url is defined somewhere in your code\n",
        "module_url = \"https://tfhub.dev/google/universal-sentence-encoder/4\"\n",
        "embed = hub.load(module_url)"
      ],
      "metadata": {
        "id": "LqmYzdWMrQ_z"
      },
      "execution_count": 84,
      "outputs": []
    },
    {
      "cell_type": "markdown",
      "source": [
        "## 5. Model Evaluation: Angular Embedding Similarity and Fréchet's Distance"
      ],
      "metadata": {
        "id": "t0Kh5E5QtnQ6"
      }
    },
    {
      "cell_type": "markdown",
      "source": [
        "### Pegasus"
      ],
      "metadata": {
        "id": "I4CZSwi5q1nL"
      }
    },
    {
      "cell_type": "code",
      "source": [
        "# Encode Pegasus with USE\n",
        "ref_post, ref_title, candidate_title = subset_columns(df_peg)\n",
        "\n",
        "# Embed data\n",
        "# original post\n",
        "ref_post_embeddings = embed(ref_post[:sample_size].values.flatten())\n",
        "\n",
        "# original title (ground truth)\n",
        "ref_title_embeddings = embed(ref_title[:sample_size].values.flatten())\n",
        "\n",
        "# generated title\n",
        "candidate_title_embeddings = embed(candidate_title[:sample_size].values.flatten())\n",
        "\n",
        "# print first 5 records\n",
        "candidate_title.head(5)"
      ],
      "metadata": {
        "colab": {
          "base_uri": "https://localhost:8080/",
          "height": 206
        },
        "id": "otI1GilkqS03",
        "outputId": "bc774b2f-f10f-43f7-ea6c-6836df732e10"
      },
      "execution_count": 85,
      "outputs": [
        {
          "output_type": "execute_result",
          "data": {
            "text/plain": [
              "                                                  candidate_title\n",
              "0                       what are some good data science bootcamps\n",
              "1  is there a better way to store and train a model for later use\n",
              "2          how to deal with missing values in logistic regression\n",
              "3          how do i go about retraining my google analytics model\n",
              "4        how do i deal with missing values in logistic regression"
            ],
            "text/html": [
              "\n",
              "  <div id=\"df-c5f44378-e0b4-4f66-ad79-d53746de008e\" class=\"colab-df-container\">\n",
              "    <div>\n",
              "<style scoped>\n",
              "    .dataframe tbody tr th:only-of-type {\n",
              "        vertical-align: middle;\n",
              "    }\n",
              "\n",
              "    .dataframe tbody tr th {\n",
              "        vertical-align: top;\n",
              "    }\n",
              "\n",
              "    .dataframe thead th {\n",
              "        text-align: right;\n",
              "    }\n",
              "</style>\n",
              "<table border=\"1\" class=\"dataframe\">\n",
              "  <thead>\n",
              "    <tr style=\"text-align: right;\">\n",
              "      <th></th>\n",
              "      <th>candidate_title</th>\n",
              "    </tr>\n",
              "  </thead>\n",
              "  <tbody>\n",
              "    <tr>\n",
              "      <th>0</th>\n",
              "      <td>what are some good data science bootcamps</td>\n",
              "    </tr>\n",
              "    <tr>\n",
              "      <th>1</th>\n",
              "      <td>is there a better way to store and train a model for later use</td>\n",
              "    </tr>\n",
              "    <tr>\n",
              "      <th>2</th>\n",
              "      <td>how to deal with missing values in logistic regression</td>\n",
              "    </tr>\n",
              "    <tr>\n",
              "      <th>3</th>\n",
              "      <td>how do i go about retraining my google analytics model</td>\n",
              "    </tr>\n",
              "    <tr>\n",
              "      <th>4</th>\n",
              "      <td>how do i deal with missing values in logistic regression</td>\n",
              "    </tr>\n",
              "  </tbody>\n",
              "</table>\n",
              "</div>\n",
              "    <div class=\"colab-df-buttons\">\n",
              "\n",
              "  <div class=\"colab-df-container\">\n",
              "    <button class=\"colab-df-convert\" onclick=\"convertToInteractive('df-c5f44378-e0b4-4f66-ad79-d53746de008e')\"\n",
              "            title=\"Convert this dataframe to an interactive table.\"\n",
              "            style=\"display:none;\">\n",
              "\n",
              "  <svg xmlns=\"http://www.w3.org/2000/svg\" height=\"24px\" viewBox=\"0 -960 960 960\">\n",
              "    <path d=\"M120-120v-720h720v720H120Zm60-500h600v-160H180v160Zm220 220h160v-160H400v160Zm0 220h160v-160H400v160ZM180-400h160v-160H180v160Zm440 0h160v-160H620v160ZM180-180h160v-160H180v160Zm440 0h160v-160H620v160Z\"/>\n",
              "  </svg>\n",
              "    </button>\n",
              "\n",
              "  <style>\n",
              "    .colab-df-container {\n",
              "      display:flex;\n",
              "      gap: 12px;\n",
              "    }\n",
              "\n",
              "    .colab-df-convert {\n",
              "      background-color: #E8F0FE;\n",
              "      border: none;\n",
              "      border-radius: 50%;\n",
              "      cursor: pointer;\n",
              "      display: none;\n",
              "      fill: #1967D2;\n",
              "      height: 32px;\n",
              "      padding: 0 0 0 0;\n",
              "      width: 32px;\n",
              "    }\n",
              "\n",
              "    .colab-df-convert:hover {\n",
              "      background-color: #E2EBFA;\n",
              "      box-shadow: 0px 1px 2px rgba(60, 64, 67, 0.3), 0px 1px 3px 1px rgba(60, 64, 67, 0.15);\n",
              "      fill: #174EA6;\n",
              "    }\n",
              "\n",
              "    .colab-df-buttons div {\n",
              "      margin-bottom: 4px;\n",
              "    }\n",
              "\n",
              "    [theme=dark] .colab-df-convert {\n",
              "      background-color: #3B4455;\n",
              "      fill: #D2E3FC;\n",
              "    }\n",
              "\n",
              "    [theme=dark] .colab-df-convert:hover {\n",
              "      background-color: #434B5C;\n",
              "      box-shadow: 0px 1px 3px 1px rgba(0, 0, 0, 0.15);\n",
              "      filter: drop-shadow(0px 1px 2px rgba(0, 0, 0, 0.3));\n",
              "      fill: #FFFFFF;\n",
              "    }\n",
              "  </style>\n",
              "\n",
              "    <script>\n",
              "      const buttonEl =\n",
              "        document.querySelector('#df-c5f44378-e0b4-4f66-ad79-d53746de008e button.colab-df-convert');\n",
              "      buttonEl.style.display =\n",
              "        google.colab.kernel.accessAllowed ? 'block' : 'none';\n",
              "\n",
              "      async function convertToInteractive(key) {\n",
              "        const element = document.querySelector('#df-c5f44378-e0b4-4f66-ad79-d53746de008e');\n",
              "        const dataTable =\n",
              "          await google.colab.kernel.invokeFunction('convertToInteractive',\n",
              "                                                    [key], {});\n",
              "        if (!dataTable) return;\n",
              "\n",
              "        const docLinkHtml = 'Like what you see? Visit the ' +\n",
              "          '<a target=\"_blank\" href=https://colab.research.google.com/notebooks/data_table.ipynb>data table notebook</a>'\n",
              "          + ' to learn more about interactive tables.';\n",
              "        element.innerHTML = '';\n",
              "        dataTable['output_type'] = 'display_data';\n",
              "        await google.colab.output.renderOutput(dataTable, element);\n",
              "        const docLink = document.createElement('div');\n",
              "        docLink.innerHTML = docLinkHtml;\n",
              "        element.appendChild(docLink);\n",
              "      }\n",
              "    </script>\n",
              "  </div>\n",
              "\n",
              "\n",
              "<div id=\"df-dfd4eadc-c255-448b-80c9-065e9726ff78\">\n",
              "  <button class=\"colab-df-quickchart\" onclick=\"quickchart('df-dfd4eadc-c255-448b-80c9-065e9726ff78')\"\n",
              "            title=\"Suggest charts\"\n",
              "            style=\"display:none;\">\n",
              "\n",
              "<svg xmlns=\"http://www.w3.org/2000/svg\" height=\"24px\"viewBox=\"0 0 24 24\"\n",
              "     width=\"24px\">\n",
              "    <g>\n",
              "        <path d=\"M19 3H5c-1.1 0-2 .9-2 2v14c0 1.1.9 2 2 2h14c1.1 0 2-.9 2-2V5c0-1.1-.9-2-2-2zM9 17H7v-7h2v7zm4 0h-2V7h2v10zm4 0h-2v-4h2v4z\"/>\n",
              "    </g>\n",
              "</svg>\n",
              "  </button>\n",
              "\n",
              "<style>\n",
              "  .colab-df-quickchart {\n",
              "      --bg-color: #E8F0FE;\n",
              "      --fill-color: #1967D2;\n",
              "      --hover-bg-color: #E2EBFA;\n",
              "      --hover-fill-color: #174EA6;\n",
              "      --disabled-fill-color: #AAA;\n",
              "      --disabled-bg-color: #DDD;\n",
              "  }\n",
              "\n",
              "  [theme=dark] .colab-df-quickchart {\n",
              "      --bg-color: #3B4455;\n",
              "      --fill-color: #D2E3FC;\n",
              "      --hover-bg-color: #434B5C;\n",
              "      --hover-fill-color: #FFFFFF;\n",
              "      --disabled-bg-color: #3B4455;\n",
              "      --disabled-fill-color: #666;\n",
              "  }\n",
              "\n",
              "  .colab-df-quickchart {\n",
              "    background-color: var(--bg-color);\n",
              "    border: none;\n",
              "    border-radius: 50%;\n",
              "    cursor: pointer;\n",
              "    display: none;\n",
              "    fill: var(--fill-color);\n",
              "    height: 32px;\n",
              "    padding: 0;\n",
              "    width: 32px;\n",
              "  }\n",
              "\n",
              "  .colab-df-quickchart:hover {\n",
              "    background-color: var(--hover-bg-color);\n",
              "    box-shadow: 0 1px 2px rgba(60, 64, 67, 0.3), 0 1px 3px 1px rgba(60, 64, 67, 0.15);\n",
              "    fill: var(--button-hover-fill-color);\n",
              "  }\n",
              "\n",
              "  .colab-df-quickchart-complete:disabled,\n",
              "  .colab-df-quickchart-complete:disabled:hover {\n",
              "    background-color: var(--disabled-bg-color);\n",
              "    fill: var(--disabled-fill-color);\n",
              "    box-shadow: none;\n",
              "  }\n",
              "\n",
              "  .colab-df-spinner {\n",
              "    border: 2px solid var(--fill-color);\n",
              "    border-color: transparent;\n",
              "    border-bottom-color: var(--fill-color);\n",
              "    animation:\n",
              "      spin 1s steps(1) infinite;\n",
              "  }\n",
              "\n",
              "  @keyframes spin {\n",
              "    0% {\n",
              "      border-color: transparent;\n",
              "      border-bottom-color: var(--fill-color);\n",
              "      border-left-color: var(--fill-color);\n",
              "    }\n",
              "    20% {\n",
              "      border-color: transparent;\n",
              "      border-left-color: var(--fill-color);\n",
              "      border-top-color: var(--fill-color);\n",
              "    }\n",
              "    30% {\n",
              "      border-color: transparent;\n",
              "      border-left-color: var(--fill-color);\n",
              "      border-top-color: var(--fill-color);\n",
              "      border-right-color: var(--fill-color);\n",
              "    }\n",
              "    40% {\n",
              "      border-color: transparent;\n",
              "      border-right-color: var(--fill-color);\n",
              "      border-top-color: var(--fill-color);\n",
              "    }\n",
              "    60% {\n",
              "      border-color: transparent;\n",
              "      border-right-color: var(--fill-color);\n",
              "    }\n",
              "    80% {\n",
              "      border-color: transparent;\n",
              "      border-right-color: var(--fill-color);\n",
              "      border-bottom-color: var(--fill-color);\n",
              "    }\n",
              "    90% {\n",
              "      border-color: transparent;\n",
              "      border-bottom-color: var(--fill-color);\n",
              "    }\n",
              "  }\n",
              "</style>\n",
              "\n",
              "  <script>\n",
              "    async function quickchart(key) {\n",
              "      const quickchartButtonEl =\n",
              "        document.querySelector('#' + key + ' button');\n",
              "      quickchartButtonEl.disabled = true;  // To prevent multiple clicks.\n",
              "      quickchartButtonEl.classList.add('colab-df-spinner');\n",
              "      try {\n",
              "        const charts = await google.colab.kernel.invokeFunction(\n",
              "            'suggestCharts', [key], {});\n",
              "      } catch (error) {\n",
              "        console.error('Error during call to suggestCharts:', error);\n",
              "      }\n",
              "      quickchartButtonEl.classList.remove('colab-df-spinner');\n",
              "      quickchartButtonEl.classList.add('colab-df-quickchart-complete');\n",
              "    }\n",
              "    (() => {\n",
              "      let quickchartButtonEl =\n",
              "        document.querySelector('#df-dfd4eadc-c255-448b-80c9-065e9726ff78 button');\n",
              "      quickchartButtonEl.style.display =\n",
              "        google.colab.kernel.accessAllowed ? 'block' : 'none';\n",
              "    })();\n",
              "  </script>\n",
              "</div>\n",
              "\n",
              "    </div>\n",
              "  </div>\n"
            ],
            "application/vnd.google.colaboratory.intrinsic+json": {
              "type": "dataframe",
              "variable_name": "candidate_title",
              "summary": "{\n  \"name\": \"candidate_title\",\n  \"rows\": 1250,\n  \"fields\": [\n    {\n      \"column\": \"candidate_title\",\n      \"properties\": {\n        \"dtype\": \"string\",\n        \"num_unique_values\": 995,\n        \"samples\": [\n          \"resume critique\",\n          \"is it worth getting a masters in data science if i already have a job as a lawyer\",\n          \"question about batch normalization\"\n        ],\n        \"semantic_type\": \"\",\n        \"description\": \"\"\n      }\n    }\n  ]\n}"
            }
          },
          "metadata": {},
          "execution_count": 85
        }
      ]
    },
    {
      "cell_type": "code",
      "source": [
        "# Angular Similarity Calculation\n",
        "ang_sim_gen_title_ref_post = []\n",
        "ang_sim_ref_title_ref_post = []\n",
        "\n",
        "# Fréchet's Distance Calculation\n",
        "fd_gen_title_ref_post = []\n",
        "fd_ref_title_ref_post = []\n",
        "\n",
        "for i in range(len(candidate_title_embeddings)):\n",
        "\n",
        "  gen_title = np.expand_dims(candidate_title_embeddings[i], axis=0)\n",
        "  ref_title = np.expand_dims(ref_title_embeddings[i], axis=0)\n",
        "  ref_post = np.expand_dims(ref_post_embeddings[i], axis=0)\n",
        "\n",
        "  # compare Angular Sim - generated title vs original post\n",
        "  ang_sim_gen_title_ref_post.append(float(angular_similarity(gen_title, ref_post)[0]))\n",
        "\n",
        "  # compare Angular Sim - original title (ground truth) vs original post\n",
        "  ang_sim_ref_title_ref_post.append(float(angular_similarity(ref_title, ref_post)[0]))\n",
        "\n",
        "  # compare Fréchet's Distance - generated title vs original post\n",
        "  fd_gen_title_ref_post.append(float(frechet_distance(gen_title, ref_post)))\n",
        "\n",
        "  # compare Fréchet's Distance -  original title (ground truth) vs original post\n",
        "  fd_ref_title_ref_post.append(float(frechet_distance(ref_title, ref_post)))\n",
        "\n",
        "print(\" Pegasus Results \".center(50, \"*\"))\n",
        "print(\"Shape :\",candidate_title_embeddings.shape)\n",
        "\n",
        "# Angular Similarity\n",
        "summary_ang_sim_gen_title_ref_post = np.mean(ang_sim_gen_title_ref_post)\n",
        "print(\"Angular Sim - Candidate Title vs Ref Post :\\t\\t\",summary_ang_sim_gen_title_ref_post)\n",
        "summary_ang_sim_ref_title_ref_post = np.mean(ang_sim_ref_title_ref_post)\n",
        "print(\"Angular Sim - Ref Title vs Ref Post :\\t\\t\\t\",summary_ang_sim_ref_title_ref_post,\"\\n\")\n",
        "\n",
        "# Fréchet's Distance\n",
        "summary_fd_gen_title_ref_post = np.mean(fd_gen_title_ref_post)\n",
        "print(\"Fréchet's Distance - Candidate Title vs Ref Post :\\t\",summary_fd_gen_title_ref_post)\n",
        "\n",
        "summary_fd_ref_title_ref_post = np.mean(fd_ref_title_ref_post)\n",
        "print(\"Fréchet's Distance - Ref Title vs Ref Post :\\t\\t\",summary_fd_ref_title_ref_post)"
      ],
      "metadata": {
        "id": "QEaumFg7s05K",
        "colab": {
          "base_uri": "https://localhost:8080/"
        },
        "outputId": "7ba460d4-bdba-46b0-f633-12250fa3385b"
      },
      "execution_count": 86,
      "outputs": [
        {
          "output_type": "stream",
          "name": "stdout",
          "text": [
            "**************** Pegasus Results *****************\n",
            "Shape : (1250, 512)\n",
            "Angular Sim - Candidate Title vs Ref Post :\t\t 0.6372447463512421\n",
            "Angular Sim - Ref Title vs Ref Post :\t\t\t 0.640458917093277 \n",
            "\n",
            "Fréchet's Distance - Candidate Title vs Ref Post :\t 1.0755447518825532\n",
            "Fréchet's Distance - Ref Title vs Ref Post :\t\t 1.0669682736873627\n"
          ]
        }
      ]
    },
    {
      "cell_type": "code",
      "source": [
        "# Angular Similarity - Generated Title vs. Reference Post\n",
        "sns.histplot(ang_sim_gen_title_ref_post, kde=True)\n",
        "plt.xlabel('angular similarity')\n",
        "plt.ylabel('count')\n",
        "plt.title('Angular Similarity - Generated Title vs. Reference Post')\n",
        "plt.axvline(summary_ang_sim_gen_title_ref_post,linestyle='-.', color='red')"
      ],
      "metadata": {
        "colab": {
          "base_uri": "https://localhost:8080/",
          "height": 489
        },
        "id": "iIELbvEm85zC",
        "outputId": "bdf75b4d-23f7-454e-872f-3155c5f71d78"
      },
      "execution_count": 87,
      "outputs": [
        {
          "output_type": "execute_result",
          "data": {
            "text/plain": [
              "<matplotlib.lines.Line2D at 0x784e4b512260>"
            ]
          },
          "metadata": {},
          "execution_count": 87
        },
        {
          "output_type": "display_data",
          "data": {
            "text/plain": [
              "<Figure size 640x480 with 1 Axes>"
            ],
            "image/png": "[encoded data removed]"
          },
          "metadata": {}
        }
      ]
    },
    {
      "cell_type": "code",
      "source": [
        "# Angular Similarity - Reference Title vs. Reference Post\n",
        "sns.histplot(ang_sim_ref_title_ref_post, kde=True)\n",
        "plt.xlabel('angular similarity')\n",
        "plt.ylabel('count')\n",
        "plt.title('Angular Similarity - Reference Title vs. Reference Post')\n",
        "plt.axvline(summary_ang_sim_ref_title_ref_post,linestyle='-.',color='red')"
      ],
      "metadata": {
        "colab": {
          "base_uri": "https://localhost:8080/",
          "height": 489
        },
        "id": "rzD-VqT29rPd",
        "outputId": "c82bbdf1-1169-437e-cd3b-71043194d852"
      },
      "execution_count": 88,
      "outputs": [
        {
          "output_type": "execute_result",
          "data": {
            "text/plain": [
              "<matplotlib.lines.Line2D at 0x784e0e364220>"
            ]
          },
          "metadata": {},
          "execution_count": 88
        },
        {
          "output_type": "display_data",
          "data": {
            "text/plain": [
              "<Figure size 640x480 with 1 Axes>"
            ],
            "image/png": "[encoded data removed]"
          },
          "metadata": {}
        }
      ]
    },
    {
      "cell_type": "markdown",
      "source": [
        "### T5"
      ],
      "metadata": {
        "id": "IQSkeBuKrIe0"
      }
    },
    {
      "cell_type": "code",
      "source": [
        "# Encode T5\n",
        "ref_post, ref_title, candidate_title = subset_columns(df_t5)\n",
        "\n",
        "# Embed data\n",
        "# original post\n",
        "ref_post_embeddings = embed(ref_post[:sample_size].values.flatten())\n",
        "\n",
        "# original title (ground truth)\n",
        "ref_title_embeddings = embed(ref_title[:sample_size].values.flatten())\n",
        "\n",
        "# generated title\n",
        "candidate_title_embeddings = embed(candidate_title[:sample_size].values.flatten())\n",
        "\n",
        "# print first 5 records\n",
        "candidate_title.head(5)"
      ],
      "metadata": {
        "colab": {
          "base_uri": "https://localhost:8080/",
          "height": 206
        },
        "id": "GbZPmSbZrQeo",
        "outputId": "4c6acd7e-61ee-4cce-dcb4-15fad93990cf"
      },
      "execution_count": 89,
      "outputs": [
        {
          "output_type": "execute_result",
          "data": {
            "text/plain": [
              "                                                                    candidate_title\n",
              "0                    what is the best way to get a job in the field of data science\n",
              "1                                                           python spacy for ngrams\n",
              "2              what is the best way of calculating the weights for a neural network\n",
              "3  what is the best way of storing a large amount of data in the retraining process\n",
              "4                      how do i get the best results out of the mahalanobis dataset"
            ],
            "text/html": [
              "\n",
              "  <div id=\"df-4ca9e357-bb92-4bac-b91e-582d5d3a124c\" class=\"colab-df-container\">\n",
              "    <div>\n",
              "<style scoped>\n",
              "    .dataframe tbody tr th:only-of-type {\n",
              "        vertical-align: middle;\n",
              "    }\n",
              "\n",
              "    .dataframe tbody tr th {\n",
              "        vertical-align: top;\n",
              "    }\n",
              "\n",
              "    .dataframe thead th {\n",
              "        text-align: right;\n",
              "    }\n",
              "</style>\n",
              "<table border=\"1\" class=\"dataframe\">\n",
              "  <thead>\n",
              "    <tr style=\"text-align: right;\">\n",
              "      <th></th>\n",
              "      <th>candidate_title</th>\n",
              "    </tr>\n",
              "  </thead>\n",
              "  <tbody>\n",
              "    <tr>\n",
              "      <th>0</th>\n",
              "      <td>what is the best way to get a job in the field of data science</td>\n",
              "    </tr>\n",
              "    <tr>\n",
              "      <th>1</th>\n",
              "      <td>python spacy for ngrams</td>\n",
              "    </tr>\n",
              "    <tr>\n",
              "      <th>2</th>\n",
              "      <td>what is the best way of calculating the weights for a neural network</td>\n",
              "    </tr>\n",
              "    <tr>\n",
              "      <th>3</th>\n",
              "      <td>what is the best way of storing a large amount of data in the retraining process</td>\n",
              "    </tr>\n",
              "    <tr>\n",
              "      <th>4</th>\n",
              "      <td>how do i get the best results out of the mahalanobis dataset</td>\n",
              "    </tr>\n",
              "  </tbody>\n",
              "</table>\n",
              "</div>\n",
              "    <div class=\"colab-df-buttons\">\n",
              "\n",
              "  <div class=\"colab-df-container\">\n",
              "    <button class=\"colab-df-convert\" onclick=\"convertToInteractive('df-4ca9e357-bb92-4bac-b91e-582d5d3a124c')\"\n",
              "            title=\"Convert this dataframe to an interactive table.\"\n",
              "            style=\"display:none;\">\n",
              "\n",
              "  <svg xmlns=\"http://www.w3.org/2000/svg\" height=\"24px\" viewBox=\"0 -960 960 960\">\n",
              "    <path d=\"M120-120v-720h720v720H120Zm60-500h600v-160H180v160Zm220 220h160v-160H400v160Zm0 220h160v-160H400v160ZM180-400h160v-160H180v160Zm440 0h160v-160H620v160ZM180-180h160v-160H180v160Zm440 0h160v-160H620v160Z\"/>\n",
              "  </svg>\n",
              "    </button>\n",
              "\n",
              "  <style>\n",
              "    .colab-df-container {\n",
              "      display:flex;\n",
              "      gap: 12px;\n",
              "    }\n",
              "\n",
              "    .colab-df-convert {\n",
              "      background-color: #E8F0FE;\n",
              "      border: none;\n",
              "      border-radius: 50%;\n",
              "      cursor: pointer;\n",
              "      display: none;\n",
              "      fill: #1967D2;\n",
              "      height: 32px;\n",
              "      padding: 0 0 0 0;\n",
              "      width: 32px;\n",
              "    }\n",
              "\n",
              "    .colab-df-convert:hover {\n",
              "      background-color: #E2EBFA;\n",
              "      box-shadow: 0px 1px 2px rgba(60, 64, 67, 0.3), 0px 1px 3px 1px rgba(60, 64, 67, 0.15);\n",
              "      fill: #174EA6;\n",
              "    }\n",
              "\n",
              "    .colab-df-buttons div {\n",
              "      margin-bottom: 4px;\n",
              "    }\n",
              "\n",
              "    [theme=dark] .colab-df-convert {\n",
              "      background-color: #3B4455;\n",
              "      fill: #D2E3FC;\n",
              "    }\n",
              "\n",
              "    [theme=dark] .colab-df-convert:hover {\n",
              "      background-color: #434B5C;\n",
              "      box-shadow: 0px 1px 3px 1px rgba(0, 0, 0, 0.15);\n",
              "      filter: drop-shadow(0px 1px 2px rgba(0, 0, 0, 0.3));\n",
              "      fill: #FFFFFF;\n",
              "    }\n",
              "  </style>\n",
              "\n",
              "    <script>\n",
              "      const buttonEl =\n",
              "        document.querySelector('#df-4ca9e357-bb92-4bac-b91e-582d5d3a124c button.colab-df-convert');\n",
              "      buttonEl.style.display =\n",
              "        google.colab.kernel.accessAllowed ? 'block' : 'none';\n",
              "\n",
              "      async function convertToInteractive(key) {\n",
              "        const element = document.querySelector('#df-4ca9e357-bb92-4bac-b91e-582d5d3a124c');\n",
              "        const dataTable =\n",
              "          await google.colab.kernel.invokeFunction('convertToInteractive',\n",
              "                                                    [key], {});\n",
              "        if (!dataTable) return;\n",
              "\n",
              "        const docLinkHtml = 'Like what you see? Visit the ' +\n",
              "          '<a target=\"_blank\" href=https://colab.research.google.com/notebooks/data_table.ipynb>data table notebook</a>'\n",
              "          + ' to learn more about interactive tables.';\n",
              "        element.innerHTML = '';\n",
              "        dataTable['output_type'] = 'display_data';\n",
              "        await google.colab.output.renderOutput(dataTable, element);\n",
              "        const docLink = document.createElement('div');\n",
              "        docLink.innerHTML = docLinkHtml;\n",
              "        element.appendChild(docLink);\n",
              "      }\n",
              "    </script>\n",
              "  </div>\n",
              "\n",
              "\n",
              "<div id=\"df-7664f9e8-1a11-4d38-91d9-ddc56e564281\">\n",
              "  <button class=\"colab-df-quickchart\" onclick=\"quickchart('df-7664f9e8-1a11-4d38-91d9-ddc56e564281')\"\n",
              "            title=\"Suggest charts\"\n",
              "            style=\"display:none;\">\n",
              "\n",
              "<svg xmlns=\"http://www.w3.org/2000/svg\" height=\"24px\"viewBox=\"0 0 24 24\"\n",
              "     width=\"24px\">\n",
              "    <g>\n",
              "        <path d=\"M19 3H5c-1.1 0-2 .9-2 2v14c0 1.1.9 2 2 2h14c1.1 0 2-.9 2-2V5c0-1.1-.9-2-2-2zM9 17H7v-7h2v7zm4 0h-2V7h2v10zm4 0h-2v-4h2v4z\"/>\n",
              "    </g>\n",
              "</svg>\n",
              "  </button>\n",
              "\n",
              "<style>\n",
              "  .colab-df-quickchart {\n",
              "      --bg-color: #E8F0FE;\n",
              "      --fill-color: #1967D2;\n",
              "      --hover-bg-color: #E2EBFA;\n",
              "      --hover-fill-color: #174EA6;\n",
              "      --disabled-fill-color: #AAA;\n",
              "      --disabled-bg-color: #DDD;\n",
              "  }\n",
              "\n",
              "  [theme=dark] .colab-df-quickchart {\n",
              "      --bg-color: #3B4455;\n",
              "      --fill-color: #D2E3FC;\n",
              "      --hover-bg-color: #434B5C;\n",
              "      --hover-fill-color: #FFFFFF;\n",
              "      --disabled-bg-color: #3B4455;\n",
              "      --disabled-fill-color: #666;\n",
              "  }\n",
              "\n",
              "  .colab-df-quickchart {\n",
              "    background-color: var(--bg-color);\n",
              "    border: none;\n",
              "    border-radius: 50%;\n",
              "    cursor: pointer;\n",
              "    display: none;\n",
              "    fill: var(--fill-color);\n",
              "    height: 32px;\n",
              "    padding: 0;\n",
              "    width: 32px;\n",
              "  }\n",
              "\n",
              "  .colab-df-quickchart:hover {\n",
              "    background-color: var(--hover-bg-color);\n",
              "    box-shadow: 0 1px 2px rgba(60, 64, 67, 0.3), 0 1px 3px 1px rgba(60, 64, 67, 0.15);\n",
              "    fill: var(--button-hover-fill-color);\n",
              "  }\n",
              "\n",
              "  .colab-df-quickchart-complete:disabled,\n",
              "  .colab-df-quickchart-complete:disabled:hover {\n",
              "    background-color: var(--disabled-bg-color);\n",
              "    fill: var(--disabled-fill-color);\n",
              "    box-shadow: none;\n",
              "  }\n",
              "\n",
              "  .colab-df-spinner {\n",
              "    border: 2px solid var(--fill-color);\n",
              "    border-color: transparent;\n",
              "    border-bottom-color: var(--fill-color);\n",
              "    animation:\n",
              "      spin 1s steps(1) infinite;\n",
              "  }\n",
              "\n",
              "  @keyframes spin {\n",
              "    0% {\n",
              "      border-color: transparent;\n",
              "      border-bottom-color: var(--fill-color);\n",
              "      border-left-color: var(--fill-color);\n",
              "    }\n",
              "    20% {\n",
              "      border-color: transparent;\n",
              "      border-left-color: var(--fill-color);\n",
              "      border-top-color: var(--fill-color);\n",
              "    }\n",
              "    30% {\n",
              "      border-color: transparent;\n",
              "      border-left-color: var(--fill-color);\n",
              "      border-top-color: var(--fill-color);\n",
              "      border-right-color: var(--fill-color);\n",
              "    }\n",
              "    40% {\n",
              "      border-color: transparent;\n",
              "      border-right-color: var(--fill-color);\n",
              "      border-top-color: var(--fill-color);\n",
              "    }\n",
              "    60% {\n",
              "      border-color: transparent;\n",
              "      border-right-color: var(--fill-color);\n",
              "    }\n",
              "    80% {\n",
              "      border-color: transparent;\n",
              "      border-right-color: var(--fill-color);\n",
              "      border-bottom-color: var(--fill-color);\n",
              "    }\n",
              "    90% {\n",
              "      border-color: transparent;\n",
              "      border-bottom-color: var(--fill-color);\n",
              "    }\n",
              "  }\n",
              "</style>\n",
              "\n",
              "  <script>\n",
              "    async function quickchart(key) {\n",
              "      const quickchartButtonEl =\n",
              "        document.querySelector('#' + key + ' button');\n",
              "      quickchartButtonEl.disabled = true;  // To prevent multiple clicks.\n",
              "      quickchartButtonEl.classList.add('colab-df-spinner');\n",
              "      try {\n",
              "        const charts = await google.colab.kernel.invokeFunction(\n",
              "            'suggestCharts', [key], {});\n",
              "      } catch (error) {\n",
              "        console.error('Error during call to suggestCharts:', error);\n",
              "      }\n",
              "      quickchartButtonEl.classList.remove('colab-df-spinner');\n",
              "      quickchartButtonEl.classList.add('colab-df-quickchart-complete');\n",
              "    }\n",
              "    (() => {\n",
              "      let quickchartButtonEl =\n",
              "        document.querySelector('#df-7664f9e8-1a11-4d38-91d9-ddc56e564281 button');\n",
              "      quickchartButtonEl.style.display =\n",
              "        google.colab.kernel.accessAllowed ? 'block' : 'none';\n",
              "    })();\n",
              "  </script>\n",
              "</div>\n",
              "\n",
              "    </div>\n",
              "  </div>\n"
            ],
            "application/vnd.google.colaboratory.intrinsic+json": {
              "type": "dataframe",
              "variable_name": "candidate_title",
              "summary": "{\n  \"name\": \"candidate_title\",\n  \"rows\": 1250,\n  \"fields\": [\n    {\n      \"column\": \"candidate_title\",\n      \"properties\": {\n        \"dtype\": \"string\",\n        \"num_unique_values\": 1122,\n        \"samples\": [\n          \"what are the skills i should have in a ds team\",\n          \"how do i train a neural network with pytorch in tensorflow\",\n          \"how do i get better at data science\"\n        ],\n        \"semantic_type\": \"\",\n        \"description\": \"\"\n      }\n    }\n  ]\n}"
            }
          },
          "metadata": {},
          "execution_count": 89
        }
      ]
    },
    {
      "cell_type": "code",
      "source": [
        "# Angular Similarity Calculation\n",
        "ang_sim_gen_title_ref_post = []\n",
        "ang_sim_ref_title_ref_post = []\n",
        "\n",
        "# Fréchet's Distance Calculation\n",
        "fd_gen_title_ref_post = []\n",
        "fd_ref_title_ref_post = []\n",
        "\n",
        "for i in range(len(candidate_title_embeddings)):\n",
        "\n",
        "  gen_title = np.expand_dims(candidate_title_embeddings[i], axis=0)\n",
        "  ref_title = np.expand_dims(ref_title_embeddings[i], axis=0)\n",
        "  ref_post = np.expand_dims(ref_post_embeddings[i], axis=0)\n",
        "\n",
        "  # compare Angular Sim - generated title vs original post\n",
        "  ang_sim_gen_title_ref_post.append(float(angular_similarity(gen_title, ref_post)[0]))\n",
        "\n",
        "  # compare Angular Sim - original title (ground truth) vs original post\n",
        "  ang_sim_ref_title_ref_post.append(float(angular_similarity(ref_title, ref_post)[0]))\n",
        "\n",
        "  # compare Fréchet's Distance - generated title vs original post\n",
        "  fd_gen_title_ref_post.append(float(frechet_distance(gen_title, ref_post)))\n",
        "\n",
        "  # compare Fréchet's Distance -  original title (ground truth) vs original post\n",
        "  fd_ref_title_ref_post.append(float(frechet_distance(ref_title, ref_post)))\n",
        "\n",
        "print(\" T5 Results \".center(50, \"*\"))\n",
        "print(\"Shape :\",candidate_title_embeddings.shape)\n",
        "\n",
        "# Angular Similarity\n",
        "summary_ang_sim_gen_title_ref_post = np.mean(ang_sim_gen_title_ref_post)\n",
        "print(\"Angular Sim - Candidate Title vs Ref Post :\\t\\t\",summary_ang_sim_gen_title_ref_post)\n",
        "summary_ang_sim_ref_title_ref_post = np.mean(ang_sim_ref_title_ref_post)\n",
        "print(\"Angular Sim - Ref Title vs Ref Post :\\t\\t\\t\",summary_ang_sim_ref_title_ref_post,\"\\n\")\n",
        "\n",
        "# Fréchet's Distance\n",
        "summary_fd_gen_title_ref_post = np.mean(fd_gen_title_ref_post)\n",
        "print(\"Fréchet's Distance - Candidate Title vs Ref Post :\\t\",summary_fd_gen_title_ref_post)\n",
        "\n",
        "summary_fd_ref_title_ref_post = np.mean(fd_ref_title_ref_post)\n",
        "print(\"Fréchet's Distance - Ref Title vs Ref Post :\\t\\t\",summary_fd_ref_title_ref_post)"
      ],
      "metadata": {
        "colab": {
          "base_uri": "https://localhost:8080/"
        },
        "id": "6-t6q8o-rHl_",
        "outputId": "5a126a6d-9b9b-4b36-ca6f-3b794dd645dd"
      },
      "execution_count": 90,
      "outputs": [
        {
          "output_type": "stream",
          "name": "stdout",
          "text": [
            "******************* T5 Results *******************\n",
            "Shape : (1250, 512)\n",
            "Angular Sim - Candidate Title vs Ref Post :\t\t 0.6484775321960449\n",
            "Angular Sim - Ref Title vs Ref Post :\t\t\t 0.640458917093277 \n",
            "\n",
            "Fréchet's Distance - Candidate Title vs Ref Post :\t 1.046222029018402\n",
            "Fréchet's Distance - Ref Title vs Ref Post :\t\t 1.0669682736873627\n"
          ]
        }
      ]
    },
    {
      "cell_type": "code",
      "source": [
        "# Angular Similarity - Generated Title vs. Reference Post\n",
        "sns.histplot(ang_sim_gen_title_ref_post, kde=True)\n",
        "plt.xlabel('angular similarity')\n",
        "plt.ylabel('count')\n",
        "plt.title('Angular Similarity - Generated Title vs. Reference Post')\n",
        "plt.axvline(summary_ang_sim_gen_title_ref_post,linestyle='-.', color='red')"
      ],
      "metadata": {
        "colab": {
          "base_uri": "https://localhost:8080/",
          "height": 489
        },
        "id": "P8t9NcPV8uua",
        "outputId": "06f4af46-e400-4e7f-f6de-65d2b8405b73"
      },
      "execution_count": 91,
      "outputs": [
        {
          "output_type": "execute_result",
          "data": {
            "text/plain": [
              "<matplotlib.lines.Line2D at 0x784e0e2117b0>"
            ]
          },
          "metadata": {},
          "execution_count": 91
        },
        {
          "output_type": "display_data",
          "data": {
            "text/plain": [
              "<Figure size 640x480 with 1 Axes>"
            ],
            "image/png": "[encoded data removed]"
          },
          "metadata": {}
        }
      ]
    },
    {
      "cell_type": "code",
      "source": [
        "# Angular Similarity - Reference Title vs. Reference Post\n",
        "sns.histplot(ang_sim_ref_title_ref_post, kde=True)\n",
        "plt.xlabel('angular similarity')\n",
        "plt.ylabel('count')\n",
        "plt.title('Angular Similarity - Reference Title vs. Reference Post')\n",
        "plt.axvline(summary_ang_sim_ref_title_ref_post,linestyle='-.',color='red')"
      ],
      "metadata": {
        "colab": {
          "base_uri": "https://localhost:8080/",
          "height": 489
        },
        "id": "oFQhEjyw9CLr",
        "outputId": "a96e9481-524c-427b-c5da-affdd4e90ea4"
      },
      "execution_count": 92,
      "outputs": [
        {
          "output_type": "execute_result",
          "data": {
            "text/plain": [
              "<matplotlib.lines.Line2D at 0x784e0e1d9ed0>"
            ]
          },
          "metadata": {},
          "execution_count": 92
        },
        {
          "output_type": "display_data",
          "data": {
            "text/plain": [
              "<Figure size 640x480 with 1 Axes>"
            ],
            "image/png": "[encoded data removed]"
          },
          "metadata": {}
        }
      ]
    },
    {
      "cell_type": "markdown",
      "source": [
        "### GPT-2"
      ],
      "metadata": {
        "id": "4tevP21sty0F"
      }
    },
    {
      "cell_type": "code",
      "source": [
        "# Encode Pegasus with USE\n",
        "ref_post, ref_title, candidate_title = subset_columns(df_gpt)\n",
        "\n",
        "# Embed data\n",
        "# original post\n",
        "ref_post_embeddings = embed(ref_post[:sample_size].values.flatten())\n",
        "\n",
        "# original title (ground truth)\n",
        "ref_title_embeddings = embed(ref_title[:sample_size].values.flatten())\n",
        "\n",
        "# generated title\n",
        "candidate_title_embeddings = embed(candidate_title[:sample_size].values.flatten())\n",
        "\n",
        "# print first 5 records\n",
        "candidate_title.head(5)"
      ],
      "metadata": {
        "colab": {
          "base_uri": "https://localhost:8080/",
          "height": 536
        },
        "outputId": "6727c5ad-7b12-43b8-8152-cd8820f100fd",
        "id": "54g6869891eD"
      },
      "execution_count": 93,
      "outputs": [
        {
          "output_type": "execute_result",
          "data": {
            "text/plain": [
              "                                                                                                                                                                                                                                                                                                                                                                                                                                                                                                                                                                                                                                                                                                                                                                                                                                                                                                                                                                                                                                                                                                                                                                                                                                                                                                                                                                                                                                                                                                                                                                                                                                                                                                                                                                                                                                                                                                                                                                                                                                                                                                                                                                                                                                                                                                                                                                                                                                                                                                                                                                                                                                                                                                                                                                                                                                           candidate_title\n",
              "0                                                                                                                                                                                                                                                                                                                                                                                                                                                                                                                                                                                                                                                                                                                                                                                                                                                                                                                                                                                                                                                                                                                                                                                                                                                                                                                                                                                                                                                                                             some background i have been learning python for over a year now and i know some sql a bit of r and i have completed some small projects using data science data engineering practices i also know how to work in excel but i do not really have experience using databases i am totally willing to make the time and money investment in something like a bootcamp and i have the means to do fulltime training but i do not want to do this if there is a better faster way to get into the industry what i really want to know is what can i do that will get me a job in the field asap is there some specific bootcamp that will make this happen if so what are the best bootcamps or some particular tech skill i could learn that would basically guarantee that i am hireable very soon if i something like learned microsoft sql server or tableau and given my other skills would this be likely to get me hired i have been looking into bootcamps like thinkful springboard and data application lab the concern i have about these is actually that i already know a lot of the stuff they teach and i am worried that these will be a waste of time and not elevate me to where i want to be i also worry about it taking months to complete these programs as they estimate i would like to be finished in no more than about months thoughts\n",
              "1                                                                                                                                                                                                                                                                                                                                                                                                                                                                                                                                                                                                                                                                                                                                                                                                                                                                                                                                                                                                                                                                                                                                                                                                                                                                                                                                                                                                                                                                                                                                    hi all i have created a python module to extract sngrams which is different from traditional ngrams as it embodies linguistic syntactic trees thus making it less arbitrary than traditional ngrams as it goes without saying quality of input feature affects model performance this will help you improve your model accuracy even further built on language models of spacy it can help especially for text classification information extraction query understanding machine translation question answering systems below is an example from sngramextractor import sngramextractor ampxb sngram_objsngramextractortextmeta_tagoriginaltrigram_flagyes texteconomic news have little effect on financial markets outputsngram_objget_sngram printtext print isngram bigramoutput isnbigram print isngram trigramoutput isntrigram economic news have little effect on financial markets sngram bigram cloud_every has_cloud lining_a lining_silver has_lining sngram trigram has_lining_silver ampxb textevery cloud has a silver lining outputsngram_objget_sngram printtext print isngram bigramoutput isnbigram print isngram trigramoutput isntrigram ampxb every cloud has a silver lining sngram bigram cloud_every has_cloud lining_a lining_silver has_lining sngram trigram has_lining_silver ampxb pypi\n",
              "2                                                                                                                                                                                                                                                                                                                                                                                                                                                                                                                                                                                                                                                                                                                                                                                                                                                                                                                                                                                                                                                                                                                                                                                                                                                                                                                                                                                                                                                                                                                                                i am looking at some of the modeling programs the company has been using and there are options to smooth binned data layered linear on bin linear on avg linear on log avg and variable gradient are these methods commonly used in any algorithms i am not sure how i would implement it into r ampxb variable gradient is the most confusing it groups data from neighboring bins with a bin factor being determined the level of smoothing is determined by the radius all bins contribute to the calculation of the bin factor with decreasing weight as the distance from the target bin increases the weight is equal to radius distance radius ampxb once you calculate the overall factor a calculation is performed for each bin weighted by an exposure with various radii and a selected credibility level the calculation that yields the largest distance from is then selected as the factor to be used for that bin ampxb over multiple iterations of the model the factors are blended until the model converges and we receive a final coefficient for that bin ampxb since it is a program i have no clue what is going on in the background to calculate the convergence or what type of model this is it ends up being a multiplicative model so i am guessing it is a log linked glm\n",
              "3                                                                                                                                                                                                                                                                                                                                                                                                                                                                                                                                                                                                                                                                                                                                                                                                                                                                                                                                                                                                                                                                                                                                                                                                                                                                                                                                                                                                                                                                                                                                                                                                                                                                                                                                                                                                                                                                                                                                      let is say i have created a fraud detection model i already have a process that cleans the data and stores the trainable data in a table in a database and now i want to set up a recurring job that retrains my model every x time period how do people go about this when we want to retrain the model does not that data have to be loaded into the environment that the new model is going to be retrained i guess i am confused at how exactly the model takes the data from the database and starts training on it do people use spark to load it into the environment with the modeltobe then start the retraining process does not that mean that the retraining environment has to have enough space to cover that data being brought in apologies if this has already been asked but i have not seen a clear answer from this subredditfrom what i have found on google thanks so much for any assistance\n",
              "4  i am working with a dataset of patient performancedata and patient demographics for people with a medical condition i am trying to assess the effect of a treatment on the patients and as i am trying to replicate a randomized experiment from a observational study i am performing matching between the treatment and control group when i try to perform mahalanobis distance matching however i keep getting the following warning on matlab warning matrix is close to singular or badly scaled results may be inaccurate rcond e the warning was caused because the determinant of my covariance matrix was very close to so when i calculated the inverse of this matrix as i need to do for finding the mahalanobis distance the matrix element values become very close to as well after reading about this warning a little bit i found that when this warning is displayed the results of mahalanobis distance matching is not very reliable i thought this was because my matrix became very sparse after i introduced onehotencoding to split the multicategorical features into many different features and hence some of my new features were for category values that had very few occurrences less than to address this issue i got rid of the category values with very low occurrences less than or binned them together with other lowoccurrence category values into slightly larger bins so their chances of occurring increased and my datamatrix was less sparse so i reduced the number of features from to and i plotted the histograms for all my features to see their distributions and this is what it looked like note that the element values have been normalized to by subtracting the feature mean and then divided by the feature standard deviation it looked visually satisfactory to me but i still kept getting the same warning in matlab when i tried finding the determinant of my new covariance matrix it was still very small e in a further attempt to fix this issue i checked whether removing all of the categorical features if we consider the onehot encoded features made things any better by making the matrix less sparse the new featurehistogram looked like this this time when i tried mahalanobis distance matching the warning was removed because the determinant of the covariance matrix was larger e so i tried to see if i could include one of the removed multicategorical features without facing the same problem as these are important features i would prefer to include when doing my matching i added a categorical feature with possible values and all the values very well distributed see histogram below but alas simply including these new onehotencoded features seems to cause the determinant of the covariance matrix to become so small that i start getting"
            ],
            "text/html": [
              "\n",
              "  <div id=\"df-8a520cd6-7805-4be4-95fd-48c24ffe59c0\" class=\"colab-df-container\">\n",
              "    <div>\n",
              "<style scoped>\n",
              "    .dataframe tbody tr th:only-of-type {\n",
              "        vertical-align: middle;\n",
              "    }\n",
              "\n",
              "    .dataframe tbody tr th {\n",
              "        vertical-align: top;\n",
              "    }\n",
              "\n",
              "    .dataframe thead th {\n",
              "        text-align: right;\n",
              "    }\n",
              "</style>\n",
              "<table border=\"1\" class=\"dataframe\">\n",
              "  <thead>\n",
              "    <tr style=\"text-align: right;\">\n",
              "      <th></th>\n",
              "      <th>candidate_title</th>\n",
              "    </tr>\n",
              "  </thead>\n",
              "  <tbody>\n",
              "    <tr>\n",
              "      <th>0</th>\n",
              "      <td>some background i have been learning python for over a year now and i know some sql a bit of r and i have completed some small projects using data science data engineering practices i also know how to work in excel but i do not really have experience using databases i am totally willing to make the time and money investment in something like a bootcamp and i have the means to do fulltime training but i do not want to do this if there is a better faster way to get into the industry what i really want to know is what can i do that will get me a job in the field asap is there some specific bootcamp that will make this happen if so what are the best bootcamps or some particular tech skill i could learn that would basically guarantee that i am hireable very soon if i something like learned microsoft sql server or tableau and given my other skills would this be likely to get me hired i have been looking into bootcamps like thinkful springboard and data application lab the concern i have about these is actually that i already know a lot of the stuff they teach and i am worried that these will be a waste of time and not elevate me to where i want to be i also worry about it taking months to complete these programs as they estimate i would like to be finished in no more than about months thoughts</td>\n",
              "    </tr>\n",
              "    <tr>\n",
              "      <th>1</th>\n",
              "      <td>hi all i have created a python module to extract sngrams which is different from traditional ngrams as it embodies linguistic syntactic trees thus making it less arbitrary than traditional ngrams as it goes without saying quality of input feature affects model performance this will help you improve your model accuracy even further built on language models of spacy it can help especially for text classification information extraction query understanding machine translation question answering systems below is an example from sngramextractor import sngramextractor ampxb sngram_objsngramextractortextmeta_tagoriginaltrigram_flagyes texteconomic news have little effect on financial markets outputsngram_objget_sngram printtext print isngram bigramoutput isnbigram print isngram trigramoutput isntrigram economic news have little effect on financial markets sngram bigram cloud_every has_cloud lining_a lining_silver has_lining sngram trigram has_lining_silver ampxb textevery cloud has a silver lining outputsngram_objget_sngram printtext print isngram bigramoutput isnbigram print isngram trigramoutput isntrigram ampxb every cloud has a silver lining sngram bigram cloud_every has_cloud lining_a lining_silver has_lining sngram trigram has_lining_silver ampxb pypi</td>\n",
              "    </tr>\n",
              "    <tr>\n",
              "      <th>2</th>\n",
              "      <td>i am looking at some of the modeling programs the company has been using and there are options to smooth binned data layered linear on bin linear on avg linear on log avg and variable gradient are these methods commonly used in any algorithms i am not sure how i would implement it into r ampxb variable gradient is the most confusing it groups data from neighboring bins with a bin factor being determined the level of smoothing is determined by the radius all bins contribute to the calculation of the bin factor with decreasing weight as the distance from the target bin increases the weight is equal to radius distance radius ampxb once you calculate the overall factor a calculation is performed for each bin weighted by an exposure with various radii and a selected credibility level the calculation that yields the largest distance from is then selected as the factor to be used for that bin ampxb over multiple iterations of the model the factors are blended until the model converges and we receive a final coefficient for that bin ampxb since it is a program i have no clue what is going on in the background to calculate the convergence or what type of model this is it ends up being a multiplicative model so i am guessing it is a log linked glm</td>\n",
              "    </tr>\n",
              "    <tr>\n",
              "      <th>3</th>\n",
              "      <td>let is say i have created a fraud detection model i already have a process that cleans the data and stores the trainable data in a table in a database and now i want to set up a recurring job that retrains my model every x time period how do people go about this when we want to retrain the model does not that data have to be loaded into the environment that the new model is going to be retrained i guess i am confused at how exactly the model takes the data from the database and starts training on it do people use spark to load it into the environment with the modeltobe then start the retraining process does not that mean that the retraining environment has to have enough space to cover that data being brought in apologies if this has already been asked but i have not seen a clear answer from this subredditfrom what i have found on google thanks so much for any assistance</td>\n",
              "    </tr>\n",
              "    <tr>\n",
              "      <th>4</th>\n",
              "      <td>i am working with a dataset of patient performancedata and patient demographics for people with a medical condition i am trying to assess the effect of a treatment on the patients and as i am trying to replicate a randomized experiment from a observational study i am performing matching between the treatment and control group when i try to perform mahalanobis distance matching however i keep getting the following warning on matlab warning matrix is close to singular or badly scaled results may be inaccurate rcond e the warning was caused because the determinant of my covariance matrix was very close to so when i calculated the inverse of this matrix as i need to do for finding the mahalanobis distance the matrix element values become very close to as well after reading about this warning a little bit i found that when this warning is displayed the results of mahalanobis distance matching is not very reliable i thought this was because my matrix became very sparse after i introduced onehotencoding to split the multicategorical features into many different features and hence some of my new features were for category values that had very few occurrences less than to address this issue i got rid of the category values with very low occurrences less than or binned them together with other lowoccurrence category values into slightly larger bins so their chances of occurring increased and my datamatrix was less sparse so i reduced the number of features from to and i plotted the histograms for all my features to see their distributions and this is what it looked like note that the element values have been normalized to by subtracting the feature mean and then divided by the feature standard deviation it looked visually satisfactory to me but i still kept getting the same warning in matlab when i tried finding the determinant of my new covariance matrix it was still very small e in a further attempt to fix this issue i checked whether removing all of the categorical features if we consider the onehot encoded features made things any better by making the matrix less sparse the new featurehistogram looked like this this time when i tried mahalanobis distance matching the warning was removed because the determinant of the covariance matrix was larger e so i tried to see if i could include one of the removed multicategorical features without facing the same problem as these are important features i would prefer to include when doing my matching i added a categorical feature with possible values and all the values very well distributed see histogram below but alas simply including these new onehotencoded features seems to cause the determinant of the covariance matrix to become so small that i start getting</td>\n",
              "    </tr>\n",
              "  </tbody>\n",
              "</table>\n",
              "</div>\n",
              "    <div class=\"colab-df-buttons\">\n",
              "\n",
              "  <div class=\"colab-df-container\">\n",
              "    <button class=\"colab-df-convert\" onclick=\"convertToInteractive('df-8a520cd6-7805-4be4-95fd-48c24ffe59c0')\"\n",
              "            title=\"Convert this dataframe to an interactive table.\"\n",
              "            style=\"display:none;\">\n",
              "\n",
              "  <svg xmlns=\"http://www.w3.org/2000/svg\" height=\"24px\" viewBox=\"0 -960 960 960\">\n",
              "    <path d=\"M120-120v-720h720v720H120Zm60-500h600v-160H180v160Zm220 220h160v-160H400v160Zm0 220h160v-160H400v160ZM180-400h160v-160H180v160Zm440 0h160v-160H620v160ZM180-180h160v-160H180v160Zm440 0h160v-160H620v160Z\"/>\n",
              "  </svg>\n",
              "    </button>\n",
              "\n",
              "  <style>\n",
              "    .colab-df-container {\n",
              "      display:flex;\n",
              "      gap: 12px;\n",
              "    }\n",
              "\n",
              "    .colab-df-convert {\n",
              "      background-color: #E8F0FE;\n",
              "      border: none;\n",
              "      border-radius: 50%;\n",
              "      cursor: pointer;\n",
              "      display: none;\n",
              "      fill: #1967D2;\n",
              "      height: 32px;\n",
              "      padding: 0 0 0 0;\n",
              "      width: 32px;\n",
              "    }\n",
              "\n",
              "    .colab-df-convert:hover {\n",
              "      background-color: #E2EBFA;\n",
              "      box-shadow: 0px 1px 2px rgba(60, 64, 67, 0.3), 0px 1px 3px 1px rgba(60, 64, 67, 0.15);\n",
              "      fill: #174EA6;\n",
              "    }\n",
              "\n",
              "    .colab-df-buttons div {\n",
              "      margin-bottom: 4px;\n",
              "    }\n",
              "\n",
              "    [theme=dark] .colab-df-convert {\n",
              "      background-color: #3B4455;\n",
              "      fill: #D2E3FC;\n",
              "    }\n",
              "\n",
              "    [theme=dark] .colab-df-convert:hover {\n",
              "      background-color: #434B5C;\n",
              "      box-shadow: 0px 1px 3px 1px rgba(0, 0, 0, 0.15);\n",
              "      filter: drop-shadow(0px 1px 2px rgba(0, 0, 0, 0.3));\n",
              "      fill: #FFFFFF;\n",
              "    }\n",
              "  </style>\n",
              "\n",
              "    <script>\n",
              "      const buttonEl =\n",
              "        document.querySelector('#df-8a520cd6-7805-4be4-95fd-48c24ffe59c0 button.colab-df-convert');\n",
              "      buttonEl.style.display =\n",
              "        google.colab.kernel.accessAllowed ? 'block' : 'none';\n",
              "\n",
              "      async function convertToInteractive(key) {\n",
              "        const element = document.querySelector('#df-8a520cd6-7805-4be4-95fd-48c24ffe59c0');\n",
              "        const dataTable =\n",
              "          await google.colab.kernel.invokeFunction('convertToInteractive',\n",
              "                                                    [key], {});\n",
              "        if (!dataTable) return;\n",
              "\n",
              "        const docLinkHtml = 'Like what you see? Visit the ' +\n",
              "          '<a target=\"_blank\" href=https://colab.research.google.com/notebooks/data_table.ipynb>data table notebook</a>'\n",
              "          + ' to learn more about interactive tables.';\n",
              "        element.innerHTML = '';\n",
              "        dataTable['output_type'] = 'display_data';\n",
              "        await google.colab.output.renderOutput(dataTable, element);\n",
              "        const docLink = document.createElement('div');\n",
              "        docLink.innerHTML = docLinkHtml;\n",
              "        element.appendChild(docLink);\n",
              "      }\n",
              "    </script>\n",
              "  </div>\n",
              "\n",
              "\n",
              "<div id=\"df-f2cc7d07-ffd6-49db-a2ea-7801fe05fbd0\">\n",
              "  <button class=\"colab-df-quickchart\" onclick=\"quickchart('df-f2cc7d07-ffd6-49db-a2ea-7801fe05fbd0')\"\n",
              "            title=\"Suggest charts\"\n",
              "            style=\"display:none;\">\n",
              "\n",
              "<svg xmlns=\"http://www.w3.org/2000/svg\" height=\"24px\"viewBox=\"0 0 24 24\"\n",
              "     width=\"24px\">\n",
              "    <g>\n",
              "        <path d=\"M19 3H5c-1.1 0-2 .9-2 2v14c0 1.1.9 2 2 2h14c1.1 0 2-.9 2-2V5c0-1.1-.9-2-2-2zM9 17H7v-7h2v7zm4 0h-2V7h2v10zm4 0h-2v-4h2v4z\"/>\n",
              "    </g>\n",
              "</svg>\n",
              "  </button>\n",
              "\n",
              "<style>\n",
              "  .colab-df-quickchart {\n",
              "      --bg-color: #E8F0FE;\n",
              "      --fill-color: #1967D2;\n",
              "      --hover-bg-color: #E2EBFA;\n",
              "      --hover-fill-color: #174EA6;\n",
              "      --disabled-fill-color: #AAA;\n",
              "      --disabled-bg-color: #DDD;\n",
              "  }\n",
              "\n",
              "  [theme=dark] .colab-df-quickchart {\n",
              "      --bg-color: #3B4455;\n",
              "      --fill-color: #D2E3FC;\n",
              "      --hover-bg-color: #434B5C;\n",
              "      --hover-fill-color: #FFFFFF;\n",
              "      --disabled-bg-color: #3B4455;\n",
              "      --disabled-fill-color: #666;\n",
              "  }\n",
              "\n",
              "  .colab-df-quickchart {\n",
              "    background-color: var(--bg-color);\n",
              "    border: none;\n",
              "    border-radius: 50%;\n",
              "    cursor: pointer;\n",
              "    display: none;\n",
              "    fill: var(--fill-color);\n",
              "    height: 32px;\n",
              "    padding: 0;\n",
              "    width: 32px;\n",
              "  }\n",
              "\n",
              "  .colab-df-quickchart:hover {\n",
              "    background-color: var(--hover-bg-color);\n",
              "    box-shadow: 0 1px 2px rgba(60, 64, 67, 0.3), 0 1px 3px 1px rgba(60, 64, 67, 0.15);\n",
              "    fill: var(--button-hover-fill-color);\n",
              "  }\n",
              "\n",
              "  .colab-df-quickchart-complete:disabled,\n",
              "  .colab-df-quickchart-complete:disabled:hover {\n",
              "    background-color: var(--disabled-bg-color);\n",
              "    fill: var(--disabled-fill-color);\n",
              "    box-shadow: none;\n",
              "  }\n",
              "\n",
              "  .colab-df-spinner {\n",
              "    border: 2px solid var(--fill-color);\n",
              "    border-color: transparent;\n",
              "    border-bottom-color: var(--fill-color);\n",
              "    animation:\n",
              "      spin 1s steps(1) infinite;\n",
              "  }\n",
              "\n",
              "  @keyframes spin {\n",
              "    0% {\n",
              "      border-color: transparent;\n",
              "      border-bottom-color: var(--fill-color);\n",
              "      border-left-color: var(--fill-color);\n",
              "    }\n",
              "    20% {\n",
              "      border-color: transparent;\n",
              "      border-left-color: var(--fill-color);\n",
              "      border-top-color: var(--fill-color);\n",
              "    }\n",
              "    30% {\n",
              "      border-color: transparent;\n",
              "      border-left-color: var(--fill-color);\n",
              "      border-top-color: var(--fill-color);\n",
              "      border-right-color: var(--fill-color);\n",
              "    }\n",
              "    40% {\n",
              "      border-color: transparent;\n",
              "      border-right-color: var(--fill-color);\n",
              "      border-top-color: var(--fill-color);\n",
              "    }\n",
              "    60% {\n",
              "      border-color: transparent;\n",
              "      border-right-color: var(--fill-color);\n",
              "    }\n",
              "    80% {\n",
              "      border-color: transparent;\n",
              "      border-right-color: var(--fill-color);\n",
              "      border-bottom-color: var(--fill-color);\n",
              "    }\n",
              "    90% {\n",
              "      border-color: transparent;\n",
              "      border-bottom-color: var(--fill-color);\n",
              "    }\n",
              "  }\n",
              "</style>\n",
              "\n",
              "  <script>\n",
              "    async function quickchart(key) {\n",
              "      const quickchartButtonEl =\n",
              "        document.querySelector('#' + key + ' button');\n",
              "      quickchartButtonEl.disabled = true;  // To prevent multiple clicks.\n",
              "      quickchartButtonEl.classList.add('colab-df-spinner');\n",
              "      try {\n",
              "        const charts = await google.colab.kernel.invokeFunction(\n",
              "            'suggestCharts', [key], {});\n",
              "      } catch (error) {\n",
              "        console.error('Error during call to suggestCharts:', error);\n",
              "      }\n",
              "      quickchartButtonEl.classList.remove('colab-df-spinner');\n",
              "      quickchartButtonEl.classList.add('colab-df-quickchart-complete');\n",
              "    }\n",
              "    (() => {\n",
              "      let quickchartButtonEl =\n",
              "        document.querySelector('#df-f2cc7d07-ffd6-49db-a2ea-7801fe05fbd0 button');\n",
              "      quickchartButtonEl.style.display =\n",
              "        google.colab.kernel.accessAllowed ? 'block' : 'none';\n",
              "    })();\n",
              "  </script>\n",
              "</div>\n",
              "\n",
              "    </div>\n",
              "  </div>\n"
            ],
            "application/vnd.google.colaboratory.intrinsic+json": {
              "type": "dataframe",
              "variable_name": "candidate_title",
              "summary": "{\n  \"name\": \"candidate_title\",\n  \"rows\": 1250,\n  \"fields\": [\n    {\n      \"column\": \"candidate_title\",\n      \"properties\": {\n        \"dtype\": \"string\",\n        \"num_unique_values\": 1249,\n        \"samples\": [\n          \"if i sound like a complete novice please bear with me i am trying to extract keyvalue pairs from invoice pdfs such as invoiceto addressofvendor tablesthis seems tough to implement and receipt images such as vendor subtotal date etc i have tried to ocr the reciepts and nonsearchable pdfs while i am getting good results with tesseract spacial information such as for tables is getting jumbled up how do i find the keyvalue pairs what could be the dataset for the machine learning model would named entity recognition be enough from unstructured text i think with only nlp i might not be able to detect tables i am trying to construct a general purpose pipeline so i can use a minimum of rulebased matching or templatematching i am open to any more ideas\",\n          \"ive been a digital strategist for the better part of my career and adulthood and in an effort to remain relevant and employable i have been toying with the idea of transitioning into cyber security or going down deeper the rabbit hole or so i think of digital strategy by arming myself with data science and analytics skill sets ive registered for a data science certificate course with ryerson university in toronto and thought i get a head start by doing some self study through the course of my research i came across tomi mester where his untold truths about data science hit home he sounds like the real deal but thought i ask some budding data science honchos and aspirants here has anyone taken his course is this guy a good start to sink my teeth in what would be an area to define the rest of my career any recommendations on other portals for a noob like me thank you all\",\n          \"i applied for an internship position as a data scientist in a startup i had one technical interview of hour regular coding questions and ml questions then an open question feature prediction for which i had week to complete then two hour technical tests onsite on g\\u00e9n\\u00e9ral coding skills and ml knowledge i have my final interview with the data science director tomorrow it is expected to last between min and hour the recruiter told me there might be a technical part what kind of questions do you think the data science director could ask i want to prepare it the best i can but i am not sure if i should focus on ml algorithms the theory behind them or maybe prepare present yourself and why join us questions i know no one can know but maybe some of you went through a lot of processes and have more experience with it thanks in advance i spent so much time on this application more than hr in total i really do not want to screw this also the company is very well reviewed on glassdoor and i had a great impression when i did my onsite tests\"\n        ],\n        \"semantic_type\": \"\",\n        \"description\": \"\"\n      }\n    }\n  ]\n}"
            }
          },
          "metadata": {},
          "execution_count": 93
        }
      ]
    },
    {
      "cell_type": "code",
      "source": [
        "# Angular Similarity Calculation\n",
        "ang_sim_gen_title_ref_post = []\n",
        "ang_sim_ref_title_ref_post = []\n",
        "\n",
        "# Fréchet's Distance Calculation\n",
        "fd_gen_title_ref_post = []\n",
        "fd_ref_title_ref_post = []\n",
        "\n",
        "for i in range(len(candidate_title_embeddings)):\n",
        "\n",
        "  gen_title = np.expand_dims(candidate_title_embeddings[i], axis=0)\n",
        "  ref_title = np.expand_dims(ref_title_embeddings[i], axis=0)\n",
        "  ref_post = np.expand_dims(ref_post_embeddings[i], axis=0)\n",
        "\n",
        "  # compare Angular Sim - generated title vs original post\n",
        "  ang_sim_gen_title_ref_post.append(float(angular_similarity(gen_title, ref_post)[0]))\n",
        "\n",
        "  # compare Angular Sim - original title (ground truth) vs original post\n",
        "  ang_sim_ref_title_ref_post.append(float(angular_similarity(ref_title, ref_post)[0]))\n",
        "\n",
        "  # compare Fréchet's Distance - generated title vs original post\n",
        "  fd_gen_title_ref_post.append(float(frechet_distance(gen_title, ref_post)))\n",
        "\n",
        "  # compare Fréchet's Distance -  original title (ground truth) vs original post\n",
        "  fd_ref_title_ref_post.append(float(frechet_distance(ref_title, ref_post)))\n",
        "\n",
        "print(\" GPT Results \".center(50, \"*\"))\n",
        "print(\"Shape :\",candidate_title_embeddings.shape)\n",
        "\n",
        "# Angular Similarity\n",
        "summary_ang_sim_gen_title_ref_post = np.mean(ang_sim_gen_title_ref_post)\n",
        "print(\"Angular Sim - Candidate Title vs Ref Post :\\t\\t\",summary_ang_sim_gen_title_ref_post)\n",
        "summary_ang_sim_ref_title_ref_post = np.mean(ang_sim_ref_title_ref_post)\n",
        "print(\"Angular Sim - Ref Title vs Ref Post :\\t\\t\\t\",summary_ang_sim_ref_title_ref_post,\"\\n\")\n",
        "\n",
        "# Fréchet's Distance\n",
        "summary_fd_gen_title_ref_post = np.mean(fd_gen_title_ref_post)\n",
        "print(\"Fréchet's Distance - Candidate Title vs Ref Post :\\t\",summary_fd_gen_title_ref_post)\n",
        "\n",
        "summary_fd_ref_title_ref_post = np.mean(fd_ref_title_ref_post)\n",
        "print(\"Fréchet's Distance - Ref Title vs Ref Post :\\t\\t\",summary_fd_ref_title_ref_post)"
      ],
      "metadata": {
        "colab": {
          "base_uri": "https://localhost:8080/"
        },
        "outputId": "19d21bb2-fc09-4610-8837-cebb3dc406b0",
        "id": "WXN0sMDv91eO"
      },
      "execution_count": 94,
      "outputs": [
        {
          "output_type": "stream",
          "name": "stdout",
          "text": [
            "****************** GPT Results *******************\n",
            "Shape : (1250, 512)\n",
            "Angular Sim - Candidate Title vs Ref Post :\t\t nan\n",
            "Angular Sim - Ref Title vs Ref Post :\t\t\t 0.640458917093277 \n",
            "\n",
            "Fréchet's Distance - Candidate Title vs Ref Post :\t 0.011734050008654594\n",
            "Fréchet's Distance - Ref Title vs Ref Post :\t\t 1.0669682736873627\n"
          ]
        }
      ]
    },
    {
      "cell_type": "code",
      "source": [
        "# Angular Similarity - Generated Title vs. Reference Post\n",
        "sns.histplot(ang_sim_gen_title_ref_post, kde=True)\n",
        "plt.xlabel('angular similarity')\n",
        "plt.ylabel('count')\n",
        "plt.title('Angular Similarity - Generated Title vs. Reference Post')\n",
        "plt.axvline(summary_ang_sim_gen_title_ref_post,linestyle='-.', color='red')"
      ],
      "metadata": {
        "colab": {
          "base_uri": "https://localhost:8080/",
          "height": 489
        },
        "id": "vYkkhvKo91eO",
        "outputId": "906089c8-c368-405d-ad7c-363542c63c87"
      },
      "execution_count": 95,
      "outputs": [
        {
          "output_type": "execute_result",
          "data": {
            "text/plain": [
              "<matplotlib.lines.Line2D at 0x784e0e12bb20>"
            ]
          },
          "metadata": {},
          "execution_count": 95
        },
        {
          "output_type": "display_data",
          "data": {
            "text/plain": [
              "<Figure size 640x480 with 1 Axes>"
            ],
            "image/png": "[encoded data removed]"
          },
          "metadata": {}
        }
      ]
    },
    {
      "cell_type": "code",
      "source": [
        "# Angular Similarity - Reference Title vs. Reference Post\n",
        "sns.histplot(ang_sim_ref_title_ref_post, kde=True)\n",
        "plt.xlabel('angular similarity')\n",
        "plt.ylabel('count')\n",
        "plt.title('Angular Similarity - Reference Title vs. Reference Post')\n",
        "plt.axvline(summary_ang_sim_ref_title_ref_post,linestyle='-.',color='red')"
      ],
      "metadata": {
        "colab": {
          "base_uri": "https://localhost:8080/",
          "height": 489
        },
        "id": "iqxpMQrc91eO",
        "outputId": "0702b451-19e1-40f9-ce18-9d789968ff31"
      },
      "execution_count": 96,
      "outputs": [
        {
          "output_type": "execute_result",
          "data": {
            "text/plain": [
              "<matplotlib.lines.Line2D at 0x784e0e12bfa0>"
            ]
          },
          "metadata": {},
          "execution_count": 96
        },
        {
          "output_type": "display_data",
          "data": {
            "text/plain": [
              "<Figure size 640x480 with 1 Axes>"
            ],
            "image/png": "[encoded data removed]"
          },
          "metadata": {}
        }
      ]
    }
  ],
  "metadata": {
    "colab": {
      "machine_shape": "hm",
      "provenance": [],
      "include_colab_link": true
    },
    "kernelspec": {
      "display_name": "Python 3",
      "name": "python3"
    },
    "language_info": {
      "codemirror_mode": {
        "name": "ipython",
        "version": 3
      },
      "file_extension": ".py",
      "mimetype": "text/x-python",
      "name": "python",
      "nbconvert_exporter": "python",
      "pygments_lexer": "ipython3",
      "version": "3.8.5"
    },
    "vscode": {
      "interpreter": {
        "hash": "aee8b7b246df8f9039afb4144a1f6fd8d2ca17a180786b69acc140d282b71a49"
      }
    }
  },
  "nbformat": 4,
  "nbformat_minor": 0
}